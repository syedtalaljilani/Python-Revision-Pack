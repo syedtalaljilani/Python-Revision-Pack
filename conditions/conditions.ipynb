{
 "cells": [
  {
   "cell_type": "code",
   "execution_count": 1,
   "metadata": {},
   "outputs": [
    {
     "data": {
      "text/plain": [
       "'\\nif \\nelse\\nelif\\nnested , else if ladder , ternary , switch\\n'"
      ]
     },
     "execution_count": 1,
     "metadata": {},
     "output_type": "execute_result"
    }
   ],
   "source": [
    "# conditons \n",
    "'''\n",
    "if \n",
    "else\n",
    "elif\n",
    "nested , else if ladder , ternary , switch\n",
    "'''\n"
   ]
  },
  {
   "cell_type": "code",
   "execution_count": 2,
   "metadata": {},
   "outputs": [
    {
     "name": "stdout",
     "output_type": "stream",
     "text": [
      "Number is Postive\n"
     ]
    }
   ],
   "source": [
    "# question : 1  user input is postive or negative\n",
    "user_input = int(input('Enter Your Number'))\n",
    "if user_input >= 0:\n",
    "    print('Number is Postive')\n",
    "if user_input < 0:\n",
    "    print('Number is Negative')"
   ]
  },
  {
   "cell_type": "code",
   "execution_count": 3,
   "metadata": {},
   "outputs": [
    {
     "name": "stdout",
     "output_type": "stream",
     "text": [
      "Even Number\n"
     ]
    }
   ],
   "source": [
    "# question no 2 number is even or odd\n",
    "user_input = int(input('Enter Your Number'))\n",
    "if user_input % 2 == 0:\n",
    "    print('Even Number')\n",
    "else: \n",
    "    print('Odd')"
   ]
  },
  {
   "cell_type": "code",
   "execution_count": 7,
   "metadata": {},
   "outputs": [
    {
     "name": "stdout",
     "output_type": "stream",
     "text": [
      "Breakeven (No profit No Loss)\n"
     ]
    }
   ],
   "source": [
    "# question no 3: If cost price and selling price of an item is input through the keyboard, write\n",
    "# program to determine whether the seller has made profit or incurred loss or no\n",
    "# profit no loss. Also determine how much profit he made or loss he incurred.\n",
    "cost_price = float(input('Enter Cost Price'))\n",
    "sell_price = float(input('Enter Sell Price'))\n",
    "if sell_price == cost_price:\n",
    "   print('Breakeven (No profit No Loss)')\n",
    "elif sell_price < cost_price:\n",
    "   print('You have a loss of Rs {}'.format(abs(sell_price-cost_price)))\n",
    "elif sell_price > cost_price:\n",
    "   print('You have a profit of Rs {}'.format(abs(sell_price-cost_price)))   \n",
    " "
   ]
  },
  {
   "cell_type": "code",
   "execution_count": 12,
   "metadata": {},
   "outputs": [
    {
     "name": "stdout",
     "output_type": "stream",
     "text": [
      "Fail\n"
     ]
    }
   ],
   "source": [
    "# Take input percentage of a student and print the Grade according to marks:\n",
    "# 81-100 Very Good\n",
    "# 61-80 Good\n",
    "# 41-60 Average\n",
    "# <=40 Fail\n",
    "user_marks = float(input('Enter Your Full Marks'))\n",
    "if user_marks > 80: \n",
    "    print('Very Good')\n",
    "elif user_marks > 60 and user_marks < 80:\n",
    "    print('Good')\n",
    "elif user_marks > 40 and user_marks < 60:\n",
    "    print('Average')\n",
    "elif user_marks <=40:\n",
    "    print('Fail')"
   ]
  },
  {
   "cell_type": "code",
   "execution_count": 20,
   "metadata": {},
   "outputs": [
    {
     "name": "stdout",
     "output_type": "stream",
     "text": [
      "Not a Four Digit\n"
     ]
    }
   ],
   "source": [
    "# Take positive integer input and tell if it is a four digit number or not\n",
    "# 1000 - 9999\n",
    "user_input = abs(int((input('Enter Your Number'))))\n",
    "if user_input >= 1000 and user_input <=9999:\n",
    "    print('Four Digit')\n",
    "else:\n",
    "    print('Not a Four Digit')"
   ]
  },
  {
   "cell_type": "code",
   "execution_count": 55,
   "metadata": {},
   "outputs": [
    {
     "name": "stdout",
     "output_type": "stream",
     "text": [
      "10000000 is 8 digit\n"
     ]
    }
   ],
   "source": []
  },
  {
   "cell_type": "code",
   "execution_count": 60,
   "metadata": {},
   "outputs": [
    {
     "name": "stdout",
     "output_type": "stream",
     "text": [
      "10 , 10 and 10 are equal means First , Second and Third are Equal \n"
     ]
    }
   ],
   "source": [
    "# Take 3 positive integers input and print the greatest of them.\n",
    "number_1 = int(input('Enter Your First Number'))\n",
    "number_2 = int(input('Enter Your Second Number'))\n",
    "number_3 = int(input('Enter Yout Third Number'))\n",
    "\n",
    "if number_1 > number_2 and number_2 > number_3:\n",
    "    print('{} is greater means First Greater'.format(number_1))\n",
    "elif number_2 > number_1 and number_3 > number_1:\n",
    "    print('{} is greater means Second Greater'.format(number_2))\n",
    "elif number_3 > number_1 and number_1 > number_2:\n",
    "    print('{} is greater means Third Greater'.format(number_3))\n",
    "elif number_1 == number_2 and number_3  != number_1:\n",
    "   print('{} and {} are equal means First and Second are Equal '.format(number_1,number_2))\n",
    "elif number_1 == number_3 and number_1 != number_2:\n",
    "    print('{} and {} are equal means First and Third are Equal '.format(number_1,number_3))\n",
    "elif number_2 == number_3 and number_3 != number_1:\n",
    "      print('{} and {} are equal means Second and Third are Equal '.format(number_2,number_3))\n",
    "elif number_1 == number_2 == number_3:\n",
    "       print('{} , {} and {} are equal means First , Second and Third are Equal '.format(number_1,number_2,number_3))\n"
   ]
  },
  {
   "cell_type": "code",
   "execution_count": 70,
   "metadata": {},
   "outputs": [
    {
     "name": "stdout",
     "output_type": "stream",
     "text": [
      "Your Age is less than 18 and you are Eligible\n"
     ]
    }
   ],
   "source": [
    "# nested if \n",
    "# are you eligible to vote in pakistan\n",
    "user_country = input('Enter Your Country')\n",
    "user_age = int(input('Enter Your Age'))\n",
    "country=user_country.lower()\n",
    "if country == 'pakistan':\n",
    "    if user_age >= 18:\n",
    "       print('Your eligible for Vote')\n",
    "    else:\n",
    "      print('Your Age is less than 18 and you are Eligible')\n",
    "if country != 'pakistan':\n",
    "        print('You are not Pakistani and Not Eligible for Vote')\n",
    "  "
   ]
  },
  {
   "cell_type": "code",
   "execution_count": 72,
   "metadata": {},
   "outputs": [
    {
     "name": "stdout",
     "output_type": "stream",
     "text": [
      "12 is divide by 5 and not divide by 15\n"
     ]
    }
   ],
   "source": [
    "# Take positive integer input and tell if it is divisible by 5 or 3 but not divisible by 15.\n",
    "user_input = abs(int(input('Enter Your Number')))\n",
    "if user_input % 5 ==0:\n",
    "    if user_input % 15 != 0:\n",
    "        print('{} is divide by 5 and not divide by 15'.format(user_input))\n",
    "if user_input % 3 == 0:\n",
    "    if user_input % 15 != 0:\n",
    "        print('{} is divide by 5 and not divide by 15'.format(user_input))"
   ]
  },
  {
   "cell_type": "code",
   "execution_count": null,
   "metadata": {},
   "outputs": [],
   "source": []
  }
 ],
 "metadata": {
  "kernelspec": {
   "display_name": "Python 3",
   "language": "python",
   "name": "python3"
  },
  "language_info": {
   "codemirror_mode": {
    "name": "ipython",
    "version": 3
   },
   "file_extension": ".py",
   "mimetype": "text/x-python",
   "name": "python",
   "nbconvert_exporter": "python",
   "pygments_lexer": "ipython3",
   "version": "3.11.7"
  }
 },
 "nbformat": 4,
 "nbformat_minor": 2
}
