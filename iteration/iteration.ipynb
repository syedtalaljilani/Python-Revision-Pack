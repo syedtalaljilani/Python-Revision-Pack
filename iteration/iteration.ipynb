{
 "cells": [
  {
   "cell_type": "code",
   "execution_count": 1,
   "metadata": {},
   "outputs": [
    {
     "name": "stdout",
     "output_type": "stream",
     "text": [
      "100000 is 6 digit\n"
     ]
    }
   ],
   "source": [
    "# Question no:1 find number of digit in a number \n",
    "user_input = abs(int(input('Enter Your Number')))\n",
    "value,counter = str(user_input),0;\n",
    "\n",
    "for i in value:\n",
    "    counter = counter + 1   \n",
    "print('{} is {} digit'.format(value,counter))"
   ]
  },
  {
   "cell_type": "code",
   "execution_count": 3,
   "metadata": {},
   "outputs": [
    {
     "name": "stdout",
     "output_type": "stream",
     "text": [
      "<function singleLinkedlist.__init__ at 0x7f13000568e0>\n"
     ]
    }
   ],
   "source": [
    "class linkedlist:\n",
    "    def __init__(self,data) -> str:\n",
    "        self.data = data\n",
    "        self.node = None\n",
    "\n",
    "class singleLinkedlist:\n",
    "    def __init__(self) -> str:\n",
    "       newNode =  linkedlist.__init__\n",
    "\n",
    "singleList=singleLinkedlist.__init__\n",
    "\n",
    "print(singleList)\n",
    "\n",
    "    "
   ]
  },
  {
   "cell_type": "code",
   "execution_count": null,
   "metadata": {},
   "outputs": [],
   "source": []
  }
 ],
 "metadata": {
  "kernelspec": {
   "display_name": "Python 3",
   "language": "python",
   "name": "python3"
  },
  "language_info": {
   "codemirror_mode": {
    "name": "ipython",
    "version": 3
   },
   "file_extension": ".py",
   "mimetype": "text/x-python",
   "name": "python",
   "nbconvert_exporter": "python",
   "pygments_lexer": "ipython3",
   "version": "3.11.7"
  }
 },
 "nbformat": 4,
 "nbformat_minor": 2
}
