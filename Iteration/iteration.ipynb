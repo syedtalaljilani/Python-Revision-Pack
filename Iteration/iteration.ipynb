{
 "cells": [
  {
   "cell_type": "code",
   "execution_count": 1,
   "metadata": {},
   "outputs": [
    {
     "name": "stdout",
     "output_type": "stream",
     "text": [
      "100000 is 6 digit\n"
     ]
    }
   ],
   "source": [
    "# Question no:1 find number of digit in a number \n",
    "user_input = abs(int(input('Enter Your Number')))\n",
    "value,counter = str(user_input),0;\n",
    "\n",
    "for i in value:\n",
    "    counter = counter + 1   \n",
    "print('{} is {} digit'.format(value,counter))"
   ]
  },
  {
   "cell_type": "code",
   "execution_count": 4,
   "metadata": {},
   "outputs": [
    {
     "name": "stdout",
     "output_type": "stream",
     "text": [
      "No of Even number are 5000000\n",
      "No of Odd number are 5000000\n"
     ]
    }
   ],
   "source": [
    "# count even and odd of give array\n",
    "# for loop range \n",
    "# creating array of 10**5\n",
    "n= []  \n",
    "for i in range(10**5):\n",
    "    n.append(i)\n",
    "\n",
    "# 0- n\n",
    "counter_even = 0\n",
    "counter_odd = 0\n",
    "length = len(n)\n",
    "mid = int(length)//2\n",
    "first_half = n[:mid]\n",
    "second_half = n[mid:]\n",
    "for i in range(len(first_half)):\n",
    "    if n[i]%2==0:\n",
    "        counter_even= counter_even+1\n",
    "    else:\n",
    "        counter_odd=counter_odd+1\n",
    "for i in range(len(second_half)):\n",
    "    if n[i]%2==0:\n",
    "        counter_even= counter_even+1\n",
    "    else:\n",
    "        counter_odd=counter_odd+1\n",
    "print('No of Even number are {}'.format(counter_even))\n",
    "print('No of Odd number are {}'.format(counter_odd))"
   ]
  },
  {
   "cell_type": "code",
   "execution_count": null,
   "metadata": {},
   "outputs": [],
   "source": []
  }
 ],
 "metadata": {
  "kernelspec": {
   "display_name": "Python 3",
   "language": "python",
   "name": "python3"
  },
  "language_info": {
   "codemirror_mode": {
    "name": "ipython",
    "version": 3
   },
   "file_extension": ".py",
   "mimetype": "text/x-python",
   "name": "python",
   "nbconvert_exporter": "python",
   "pygments_lexer": "ipython3",
   "version": "3.10.12"
  }
 },
 "nbformat": 4,
 "nbformat_minor": 2
}
